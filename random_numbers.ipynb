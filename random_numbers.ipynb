{
 "cells": [
  {
   "cell_type": "code",
   "execution_count": 1,
   "id": "adbbe7f0",
   "metadata": {},
   "outputs": [],
   "source": [
    "# Import the random module.\n",
    "import random"
   ]
  },
  {
   "cell_type": "code",
   "execution_count": 2,
   "id": "c56d2bea",
   "metadata": {},
   "outputs": [
    {
     "data": {
      "text/plain": [
       "0.05237483417218369"
      ]
     },
     "execution_count": 2,
     "metadata": {},
     "output_type": "execute_result"
    }
   ],
   "source": [
    "random.random()"
   ]
  },
  {
   "cell_type": "code",
   "execution_count": 6,
   "id": "1e53e546",
   "metadata": {},
   "outputs": [
    {
     "data": {
      "text/plain": [
       "8"
      ]
     },
     "execution_count": 6,
     "metadata": {},
     "output_type": "execute_result"
    }
   ],
   "source": [
    "random.randint(-10,10)"
   ]
  },
  {
   "cell_type": "code",
   "execution_count": 14,
   "id": "6307829f",
   "metadata": {},
   "outputs": [
    {
     "data": {
      "text/plain": [
       "3"
      ]
     },
     "execution_count": 14,
     "metadata": {},
     "output_type": "execute_result"
    }
   ],
   "source": [
    "random.randrange(-9,9,2)"
   ]
  },
  {
   "cell_type": "code",
   "execution_count": 16,
   "id": "f300d194",
   "metadata": {},
   "outputs": [
    {
     "data": {
      "text/plain": [
       "8.463954180370909"
      ]
     },
     "execution_count": 16,
     "metadata": {},
     "output_type": "execute_result"
    }
   ],
   "source": [
    "random.uniform(-10,10)"
   ]
  },
  {
   "cell_type": "code",
   "execution_count": 19,
   "id": "2cd3aae5",
   "metadata": {},
   "outputs": [
    {
     "data": {
      "text/plain": [
       "[-63.49124106927179,\n",
       " 20.63961493498614,\n",
       " -39.26425589007258,\n",
       " 53.83904612614582,\n",
       " -43.829986132352545,\n",
       " -83.43989179309325,\n",
       " -78.1917967138144,\n",
       " 19.298333538483643,\n",
       " -33.65561452760419,\n",
       " -64.66414938117089]"
      ]
     },
     "execution_count": 19,
     "metadata": {},
     "output_type": "execute_result"
    }
   ],
   "source": [
    "x = 1\n",
    "latitudes = []\n",
    "while x < 11:\n",
    "    random_lat = random.randint(-90, 89) + random.random()\n",
    "    latitudes.append(random_lat)\n",
    "    x += 1\n",
    "\n",
    "latitudes"
   ]
  },
  {
   "cell_type": "code",
   "execution_count": 20,
   "id": "78235a72",
   "metadata": {},
   "outputs": [],
   "source": [
    "# Import the NumPy module.\n",
    "import numpy as np"
   ]
  },
  {
   "cell_type": "code",
   "execution_count": 21,
   "id": "3502ab39",
   "metadata": {},
   "outputs": [
    {
     "data": {
      "text/plain": [
       "20.183458396910424"
      ]
     },
     "execution_count": 21,
     "metadata": {},
     "output_type": "execute_result"
    }
   ],
   "source": [
    "np.random.uniform(-90, 90)"
   ]
  },
  {
   "cell_type": "code",
   "execution_count": 22,
   "id": "42de24f8",
   "metadata": {},
   "outputs": [
    {
     "data": {
      "text/plain": [
       "77.03267306025654"
      ]
     },
     "execution_count": 22,
     "metadata": {},
     "output_type": "execute_result"
    }
   ],
   "source": [
    "np.random.uniform(low=-90, high=90)"
   ]
  },
  {
   "cell_type": "code",
   "execution_count": 23,
   "id": "8a86feb7",
   "metadata": {},
   "outputs": [
    {
     "data": {
      "text/plain": [
       "array([-86.7395164 ,  73.12341426,  -7.49634405, -57.91057278,\n",
       "       -46.72786218, -22.8050209 , -25.23854885,  83.06833545,\n",
       "        78.12951292, -29.19419699,  86.15301937, -69.53080499,\n",
       "        16.4426681 ,  -7.67377822,  84.08686758,  68.10029255,\n",
       "        26.71126287, -41.28707509,  79.09621829,  18.17556219,\n",
       "       -80.36545212,  17.51816386, -40.09067505, -67.22557185,\n",
       "        88.26468062,  22.30649703,  13.33250537, -18.81291956,\n",
       "       -17.20259597, -55.9574708 , -56.24135585,  83.35983319,\n",
       "        51.94695666, -61.6651934 ,  87.59017548, -18.37074852,\n",
       "       -31.78217053, -66.17305451,  40.36684381,  88.17377805,\n",
       "       -32.56952495, -21.5444339 , -80.10587991, -89.6688998 ,\n",
       "        42.04610985, -55.60356442,  40.29218939,  89.25688311,\n",
       "       -58.21409148,  71.64133122])"
      ]
     },
     "execution_count": 23,
     "metadata": {},
     "output_type": "execute_result"
    }
   ],
   "source": [
    "np.random.uniform(-90.000, 90.000, size=50)"
   ]
  },
  {
   "cell_type": "code",
   "execution_count": 24,
   "id": "a446b52a",
   "metadata": {},
   "outputs": [],
   "source": [
    "# Import timeit.\n",
    "import timeit"
   ]
  },
  {
   "cell_type": "code",
   "execution_count": 25,
   "id": "3c029b02",
   "metadata": {},
   "outputs": [
    {
     "name": "stdout",
     "output_type": "stream",
     "text": [
      "23.8 µs ± 800 ns per loop (mean ± std. dev. of 7 runs, 10000 loops each)\n"
     ]
    }
   ],
   "source": [
    "%timeit np.random.uniform(-90.000, 90.000, size=1500)"
   ]
  },
  {
   "cell_type": "code",
   "execution_count": 26,
   "id": "843d30a8",
   "metadata": {},
   "outputs": [
    {
     "name": "stdout",
     "output_type": "stream",
     "text": [
      "1.88 ms ± 47 µs per loop (mean ± std. dev. of 7 runs, 1000 loops each)\n"
     ]
    }
   ],
   "source": [
    "def latitudes(size):\n",
    "    latitudes = []\n",
    "    x = 0\n",
    "    while x < (size):\n",
    "        random_lat = random.randint(-90, 90) + random.random()\n",
    "        latitudes.append(random_lat)\n",
    "        x += 1\n",
    "    return latitudes\n",
    "# Call the function with 1500.\n",
    "%timeit latitudes(1500)"
   ]
  },
  {
   "cell_type": "code",
   "execution_count": 29,
   "id": "20040480",
   "metadata": {},
   "outputs": [
    {
     "name": "stdout",
     "output_type": "stream",
     "text": [
      "1.87 ms ± 20.5 µs per loop (mean ± std. dev. of 7 runs, 1000 loops each)\n"
     ]
    }
   ],
   "source": [
    "# SKILL DRILL 6.1.4\n",
    "def latitudes():\n",
    "    latitudes = []\n",
    "    x = 0\n",
    "    while x < 1500:\n",
    "        random_lat = random.randint(-90, 90) + random.random()\n",
    "        latitudes.append(random_lat)\n",
    "        x += 1\n",
    "    return latitudes\n",
    "# Call the function with 1500.\n",
    "%timeit latitudes()"
   ]
  },
  {
   "cell_type": "code",
   "execution_count": null,
   "id": "3b913370",
   "metadata": {},
   "outputs": [],
   "source": []
  }
 ],
 "metadata": {
  "kernelspec": {
   "display_name": "PythonData",
   "language": "python",
   "name": "pythondata"
  },
  "language_info": {
   "codemirror_mode": {
    "name": "ipython",
    "version": 3
   },
   "file_extension": ".py",
   "mimetype": "text/x-python",
   "name": "python",
   "nbconvert_exporter": "python",
   "pygments_lexer": "ipython3",
   "version": "3.9.13"
  }
 },
 "nbformat": 4,
 "nbformat_minor": 5
}
